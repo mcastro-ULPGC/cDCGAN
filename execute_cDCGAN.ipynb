{
 "cells": [
  {
   "cell_type": "code",
   "execution_count": 1,
   "metadata": {},
   "outputs": [],
   "source": [
    "import os, sys\n",
    "project_dir = os.path.join(os.getcwd(),'..')\n",
    "if project_dir not in sys.path:\n",
    "    sys.path.append(project_dir)\n",
    "\n",
    "source_dir = os.path.join(os.getcwd(), 'source')\n",
    "if source_dir not in sys.path:\n",
    "    sys.path.append(source_dir)\n",
    "\n",
    "from source.config import *\n",
    "from source.import_data import *\n",
    "from source.networks import *\n",
    "from source.utils import *\n"
   ]
  },
  {
   "cell_type": "code",
   "execution_count": null,
   "metadata": {},
   "outputs": [],
   "source": [
    "# Data\n",
    "dataloader = import_data(batch_size, image_size, workers, dataroot)\n",
    "\n",
    "plot_input_images(dataloader,device)"
   ]
  },
  {
   "cell_type": "code",
   "execution_count": null,
   "metadata": {},
   "outputs": [],
   "source": [
    "netG, netD = set_GAN()\n",
    "optimizerD, optimizerG = set_GAN_optimizer(netG,netD)\n",
    "criterion, fixed_noise, real_label, fake_label = set_GAN_loss()\n",
    "#schedulerD, schedulerG = set_GAN_scheduler(optimizerD,optimizerG)"
   ]
  },
  {
   "cell_type": "code",
   "execution_count": null,
   "metadata": {},
   "outputs": [],
   "source": [
    "print(netG)"
   ]
  },
  {
   "cell_type": "code",
   "execution_count": null,
   "metadata": {},
   "outputs": [],
   "source": [
    "print(netD)"
   ]
  },
  {
   "cell_type": "code",
   "execution_count": null,
   "metadata": {},
   "outputs": [],
   "source": [
    "G_losses, D_losses, img_list = train_GAN(dataloader,netG,netD,optimizerD,optimizerG,criterion,real_label,fake_label,fixed_noise)"
   ]
  },
  {
   "cell_type": "code",
   "execution_count": null,
   "metadata": {},
   "outputs": [],
   "source": [
    "save_model(netG, netD, G_losses, D_losses, img_list, model_dir, model_name)"
   ]
  },
  {
   "cell_type": "code",
   "execution_count": null,
   "metadata": {},
   "outputs": [],
   "source": [
    "#plot_G_progress(G_losses)\n"
   ]
  },
  {
   "cell_type": "code",
   "execution_count": null,
   "metadata": {},
   "outputs": [],
   "source": [
    "plot_loss(D_losses, G_losses)"
   ]
  },
  {
   "cell_type": "code",
   "execution_count": null,
   "metadata": {},
   "outputs": [],
   "source": [
    "plot_Real_VS_Fake(dataloader,img_list)"
   ]
  },
  {
   "cell_type": "code",
   "execution_count": null,
   "metadata": {},
   "outputs": [],
   "source": []
  }
 ],
 "metadata": {
  "kernelspec": {
   "display_name": "Python 3.8.10 ('venv_TF')",
   "language": "python",
   "name": "python3"
  },
  "language_info": {
   "codemirror_mode": {
    "name": "ipython",
    "version": 3
   },
   "file_extension": ".py",
   "mimetype": "text/x-python",
   "name": "python",
   "nbconvert_exporter": "python",
   "pygments_lexer": "ipython3",
   "version": "3.8.10"
  },
  "orig_nbformat": 4,
  "vscode": {
   "interpreter": {
    "hash": "5a5d89f2b0ef026956429c4e8791c0f248f02ef9161fd6746b3387b06567fa89"
   }
  }
 },
 "nbformat": 4,
 "nbformat_minor": 2
}
